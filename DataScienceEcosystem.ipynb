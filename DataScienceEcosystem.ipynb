{
 "cells": [
  {
   "cell_type": "markdown",
   "id": "f76a914e-a8e8-48f2-b429-76519535711e",
   "metadata": {},
   "source": [
    "# Data Science Tools and Ecosystem"
   ]
  },
  {
   "cell_type": "markdown",
   "id": "65766fe9-1f81-42db-b17c-b04feeaa02ce",
   "metadata": {},
   "source": [
    "In this notebook, Dat Science Tools and Ecosystem are summarized."
   ]
  },
  {
   "cell_type": "markdown",
   "id": "87ca2556-2908-4535-8e56-0c1d2094e10b",
   "metadata": {},
   "source": [
    "#### Some of the popular languages that Data Scientist use are:"
   ]
  },
  {
   "cell_type": "markdown",
   "id": "25a8f593-64f0-4289-b597-c4a4cdfd0baf",
   "metadata": {},
   "source": [
    "1. R\n",
    "2. Python\n",
    "3. Julia"
   ]
  },
  {
   "cell_type": "markdown",
   "id": "9260da61-31a0-4dc6-8fa7-6aa329843813",
   "metadata": {},
   "source": [
    "#### Some of the commonly used libraries used by Data Scientists include:"
   ]
  },
  {
   "cell_type": "markdown",
   "id": "f2ea7ac4-9813-4ab1-826f-03268a9482f5",
   "metadata": {},
   "source": [
    "1. NumPy - free Python software for numerical computing, such as large arrays\n",
    "2. Matplotlib - one of the olderst libraries for creating varous types of Python visualizations\n",
    "3. TensorFLow - free, end-to-end, open source platofrm for AI resources\n",
    "4. Plotly - visualization library that supports interactive plots in web apps"
   ]
  },
  {
   "cell_type": "markdown",
   "id": "333c830f-1ef2-4d02-929f-1173c940925a",
   "metadata": {},
   "source": [
    "| Data Science Tools |\n",
    "| -------------------- |\n",
    "| Python |\n",
    "| TensorFlow |\n",
    "| Apache Spark |\n",
    "| Scikit-Learn |"
   ]
  },
  {
   "cell_type": "markdown",
   "id": "c1b58a7b-e47e-4cbe-b174-d4f5e4c87e04",
   "metadata": {},
   "source": [
    "### Below are a few examples of evaluating arithmetic in Python."
   ]
  },
  {
   "cell_type": "code",
   "execution_count": 1,
   "id": "9b5af18a-e7d4-4d69-9f1e-d7f443fef118",
   "metadata": {},
   "outputs": [
    {
     "data": {
      "text/plain": [
       "17"
      ]
     },
     "execution_count": 1,
     "metadata": {},
     "output_type": "execute_result"
    }
   ],
   "source": [
    "# This is a simple arithmetic expression to multiply then add integers\n",
    "(3*4)+5"
   ]
  },
  {
   "cell_type": "code",
   "execution_count": 3,
   "id": "57bb7e4d-898d-4295-b406-fab2469c9a16",
   "metadata": {},
   "outputs": [
    {
     "data": {
      "text/plain": [
       "3.3333333333333335"
      ]
     },
     "execution_count": 3,
     "metadata": {},
     "output_type": "execute_result"
    }
   ],
   "source": [
    "# This will convert 200 minutes to hours by dividing by 60.\n",
    "(200/60)"
   ]
  },
  {
   "cell_type": "markdown",
   "id": "36bfddad-91dc-4be1-a503-13cab960f3b8",
   "metadata": {},
   "source": [
    "**Objectives:**\n",
    "- Python\n",
    "- Java\n",
    "- SQL\n",
    "- Julia\n",
    "- Scala\n",
    "- C/C++"
   ]
  },
  {
   "cell_type": "markdown",
   "id": "e9584e01-a44c-47f2-b0cb-fb45cbfa76fc",
   "metadata": {},
   "source": [
    "## Author\n",
    "AJ Dysick"
   ]
  },
  {
   "cell_type": "code",
   "execution_count": null,
   "id": "84b86001-bf03-466f-868a-0c1d0d679a14",
   "metadata": {},
   "outputs": [],
   "source": []
  }
 ],
 "metadata": {
  "kernelspec": {
   "display_name": "Python [conda env:anaconda3] *",
   "language": "python",
   "name": "conda-env-anaconda3-py"
  },
  "language_info": {
   "codemirror_mode": {
    "name": "ipython",
    "version": 3
   },
   "file_extension": ".py",
   "mimetype": "text/x-python",
   "name": "python",
   "nbconvert_exporter": "python",
   "pygments_lexer": "ipython3",
   "version": "3.13.5"
  }
 },
 "nbformat": 4,
 "nbformat_minor": 5
}
